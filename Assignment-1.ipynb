{
 "cells": [
  {
   "cell_type": "code",
   "execution_count": 1,
   "metadata": {},
   "outputs": [],
   "source": [
    "# Importing all required libraries for the assignment\n",
    "from pyspark import SparkConf\n",
    "from pyspark import SparkContext # Spark\n",
    "from pyspark.sql import SparkSession # Spark SQL\n",
    "import pandas as pd\n",
    "import re\n",
    "import pyspark.sql.functions as F\n",
    "import matplotlib\n",
    "import matplotlib.pyplot as plt\n",
    "import numpy as np\n",
    "from operator import add"
   ]
  },
  {
   "cell_type": "markdown",
   "metadata": {},
   "source": [
    "# Part A"
   ]
  },
  {
   "cell_type": "markdown",
   "metadata": {},
   "source": [
    "# Task 1"
   ]
  },
  {
   "cell_type": "markdown",
   "metadata": {},
   "source": [
    "## Task 1.1"
   ]
  },
  {
   "cell_type": "code",
   "execution_count": 2,
   "metadata": {},
   "outputs": [],
   "source": [
    "#Create spark configuration with all threads available on VM and with name as \"Assingment-1\"\n",
    "spark_conf = SparkConf().setMaster(\"local[*]\").setAppName(\"Assignment-1\")"
   ]
  },
  {
   "cell_type": "code",
   "execution_count": 3,
   "metadata": {},
   "outputs": [],
   "source": [
    "#Creating spark context from the configuration\n",
    "spark = SparkSession.builder.config(conf=spark_conf).getOrCreate()\n",
    "sc = spark.sparkContext\n",
    "sc.setLogLevel('ERROR')"
   ]
  },
  {
   "cell_type": "code",
   "execution_count": 4,
   "metadata": {},
   "outputs": [
    {
     "data": {
      "text/plain": [
       "['\"2016-1-15/08/2019\",\"01\",0,\"SA\",\"OMNIBUS\",\"2011\",\"North\",\"Male\",\"056\",\"SA\",\"HR\",\"Full\",\"Not Towing\",\"Straight Ahead\",\"010\",\"5121\",,',\n",
       " '\"2016-1-15/08/2019\",\"02\",1,,\"Pedestrian on Road\",,\"East\",\"Male\",\"072\",,,,,\"Walking on Road\",,\"5084\",,',\n",
       " '\"2016-2-15/08/2019\",\"01\",0,\"SA\",\"Motor Cars - Sedan\",\"2004\",\"Unknown\",\"Female\",\"023\",\"SA\",\"C \",\"Full\",\"Not Towing\",\"Straight Ahead\",\"001\",\"5087\",,',\n",
       " '\"2016-2-15/08/2019\",\"02\",0,\"SA\",\"Station Wagon\",\"2008\",\"Unknown\",\"Male\",\"040\",\"SA\",\"C \",\"Full\",\"Not Towing\",\"Straight Ahead\",\"001\",\"5084\",,',\n",
       " '\"2016-3-15/08/2019\",\"01\",0,\"SA\",\"RIGID TRUCK LGE GE 4.5T\",\"1990\",\"South\",\"Unknown\",\"XXX\",\"SA\",\"MR\",\"Provisional 2\",\"Not Towing\",\"Straight Ahead\",\"001\",\"5115\",,',\n",
       " '\"2016-3-15/08/2019\",\"02\",0,\"SA\",\"Panel Van\",\"2013\",\"South\",\"Male\",\"023\",\"SA\",\"C \",\"Full\",\"Not Towing\",\"Straight Ahead\",\"001\",\"5110\",,',\n",
       " '\"2016-4-15/08/2019\",\"01\",0,\"SA\",\"Station Wagon\",\"2002\",\"East\",\"Female\",\"033\",\"SA\",\"C \",\"Full\",\"Not Towing\",\"Straight Ahead\",\"001\",\"5169\",,',\n",
       " '\"2016-4-15/08/2019\",\"02\",0,\"UNKNOWN\",\"Other Defined Special Vehicle\",\"XXXX\",\"North\",\"Unknown\",\"XXX\",\"UNKNOWN\",\"XX\",\"Unknown\",\"Unknown\",\"Reversing\",\"001\",\"XXXX\",,',\n",
       " '\"2016-5-15/08/2019\",\"01\",1,\"SA\",\"Motor Cars - Sedan\",\"1997\",\"South East\",\"Male\",\"042\",\"SA\",\"C \",\"Full\",\"Not Towing\",\"Right Turn\",\"001\",\"XXXX\",,',\n",
       " '\"2016-5-15/08/2019\",\"02\",2,\"SA\",\"Utility\",\"2015\",\"North East\",\"Male\",\"059\",\"SA\",\"MC\",\"Full\",\"Not Towing\",\"Straight Ahead\",\"002\",\"5114\",,']"
      ]
     },
     "execution_count": 4,
     "metadata": {},
     "output_type": "execute_result"
    }
   ],
   "source": [
    "#Load the data from all unit.csv files and remove the first row i.e header\n",
    "unit_rdd = sc.textFile(\"Data/*Units.csv\")\n",
    "header_unit = unit_rdd.first()\n",
    "unit_rdd = unit_rdd.filter(lambda row: row != header_unit)\n",
    "unit_rdd.take(10)"
   ]
  },
  {
   "cell_type": "code",
   "execution_count": 5,
   "metadata": {},
   "outputs": [
    {
     "name": "stdout",
     "output_type": "stream",
     "text": [
      "Number of record in unit rdd is 153854\n"
     ]
    }
   ],
   "source": [
    "print(\"Number of record in unit rdd is %d\" % (unit_rdd.count()))"
   ]
  },
  {
   "cell_type": "code",
   "execution_count": 6,
   "metadata": {},
   "outputs": [
    {
     "data": {
      "text/plain": [
       "['\"2019-1-8/07/2020\",\"2 Metropolitan\",\"HAMPSTEAD GARDENS\",\"5086\",\"CITY OF PORT ADELAIDE ENFIELD\",2,0,0,0,0,2019,\"June\",\"Wednesday\",\"11:15 am\",\"060\",\"Cross Road\",\"Straight road\",\"Level\",\"Not Applicable\",\"Sealed\",\"Dry\",\"Not Raining\",\"Daylight\",\"Right Angle\",\"01\",\"Driver Rider\",\"1: PDO\",\"Give Way Sign\",\"\",\"\",1331810.03,1676603.26,\"13318101676603\"',\n",
       " '\"2019-2-8/07/2020\",\"2 Metropolitan\",\"DRY CREEK\",\"5094\",\"CITY OF SALISBURY\",2,0,0,0,0,2019,\"January\",\"Tuesday\",\"12:49 am\",\"090\",\"Divided Road\",\"Straight road\",\"Level\",\"Not Applicable\",\"Sealed\",\"Dry\",\"Not Raining\",\"Night\",\"Rear End\",\"02\",\"Driver Rider\",\"1: PDO\",\"No Control\",\"\",\"\",1328376.2,1682942.63,\"13283761682943\"',\n",
       " '\"2019-3-8/07/2020\",\"2 Metropolitan\",\"MILE END\",\"5031\",\"CITY OF WEST TORRENS\",2,1,0,0,1,2019,\"January\",\"Tuesday\",\"12:00 am\",\"060\",\"Divided Road\",\"Straight road\",\"Level\",\"Not Applicable\",\"Sealed\",\"Dry\",\"Not Raining\",\"Night\",\"Hit Pedestrian\",\"01\",\"Driver Rider\",\"2: MI\",\"No Control\",\"\",\"\",1325819.68,1670994.26,\"13258201670994\"',\n",
       " '\"2019-4-8/07/2020\",\"2 Metropolitan\",\"PARALOWIE\",\"5108\",\"CITY OF SALISBURY\",2,1,0,1,0,2019,\"January\",\"Tuesday\",\"12:05 am\",\"050\",\"Not Divided\",\"CURVED, VIEW OPEN\",\"Level\",\"Not Applicable\",\"Sealed\",\"Dry\",\"Not Raining\",\"Night\",\"Hit Fixed Object\",\"01\",\"Driver Rider\",\"3: SI\",\"No Control\",\"\",\"\",1328320.6,1690237.08,\"13283211690237\"',\n",
       " '\"2019-5-8/07/2020\",\"2 Metropolitan\",\"MOUNT BARKER\",\"5251\",\"DC MT.BARKER.                 \",2,0,0,0,0,2019,\"January\",\"Tuesday\",\"05:15 am\",\"110\",\"Divided Road\",\"Straight road\",\"Slope\",\"Not Applicable\",\"Sealed\",\"Dry\",\"Not Raining\",\"Night\",\"Hit Animal\",\"02\",\"Animal\",\"1: PDO\",\"No Control\",\"\",\"\",1353279.99,1655645.15,\"13532801655645\"',\n",
       " '\"2019-6-8/07/2020\",\"2 Metropolitan\",\"TORRENSVILLE\",\"5031\",\"CITY OF WEST TORRENS\",2,1,0,0,1,2019,\"January\",\"Tuesday\",\"07:00 am\",\"050\",\"Divided Road\",\"Straight road\",\"Level\",\"Not Applicable\",\"Sealed\",\"Dry\",\"Not Raining\",\"Daylight\",\"Hit Fixed Object\",\"01\",\"Driver Rider\",\"2: MI\",\"No Control\",\"\",\"\",1324652.75,1672027.64,\"13246531672028\"',\n",
       " '\"2019-7-8/07/2020\",\"2 Metropolitan\",\"BEDFORD PARK\",\"5042\",\"CC MITCHAM.                   \",2,3,0,0,3,2019,\"January\",\"Tuesday\",\"09:40 am\",\"050\",\"Cross Road\",\"Straight road\",\"Level\",\"Not Applicable\",\"Sealed\",\"Dry\",\"Not Raining\",\"Daylight\",\"Right Angle\",\"02\",\"Driver Rider\",\"2: MI\",\"Traffic Signals\",\"\",\"\",1325156.2,1660414.38,\"13251561660414\"',\n",
       " '\"2019-8-8/07/2020\",\"3 Country\",\"WYE\",\"5291\",\"DISTRICT COUNCIL OF GRANT\",1,1,0,0,1,2019,\"January\",\"Tuesday\",\"12:15 pm\",\"110\",\"Not Divided\",\"CURVED, VIEW OPEN\",\"Level\",\"Not Applicable\",\"Sealed\",\"Dry\",\"Not Raining\",\"Daylight\",\"Roll Over\",\"01\",\"Driver Rider\",\"2: MI\",\"No Control\",\"\",\"\",1517347.8,1321979.33,\"15173481321979\"',\n",
       " '\"2019-9-8/07/2020\",\"3 Country\",\"MOUNT GAMBIER\",\"5290\",\"CC MT.GAMBIER.                \",1,1,0,0,1,2019,\"January\",\"Tuesday\",\"11:45 am\",\"050\",\"T-Junction\",\"Straight road\",\"Bottom of Hill\",\"Not Applicable\",\"Sealed\",\"Dry\",\"Not Raining\",\"Daylight\",\"Roll Over\",\"01\",\"Driver Rider\",\"2: MI\",\"Stop Sign\",\"\",\"\",1510220.05,1340472.35,\"15102201340472\"',\n",
       " '\"2019-10-8/07/2020\",\"3 Country\",\"OVERLAND CORNER\",\"5330\",\"THE BERRI BARMERA COUNCIL\",1,1,0,1,0,2019,\"January\",\"Tuesday\",\"12:30 pm\",\"080\",\"Not Divided\",\"CURVED, VIEW OPEN\",\"Slope\",\"Not Applicable\",\"Sealed\",\"Dry\",\"Not Raining\",\"Daylight\",\"Roll Over\",\"01\",\"Driver Rider\",\"3: SI\",\"No Control\",\"\",\"\",1492599.9,1749395.71,\"14926001749396\"']"
      ]
     },
     "execution_count": 6,
     "metadata": {},
     "output_type": "execute_result"
    }
   ],
   "source": [
    "#Load the data from all crash.csv files and remove the first row i.e header\n",
    "crash_rdd = sc.textFile(\"Data/*Crash.csv\")\n",
    "header_crash = crash_rdd.first()\n",
    "crash_rdd = crash_rdd.filter(lambda row: row != header_crash)\n",
    "crash_rdd.take(10)"
   ]
  },
  {
   "cell_type": "code",
   "execution_count": 7,
   "metadata": {},
   "outputs": [
    {
     "name": "stdout",
     "output_type": "stream",
     "text": [
      "Number of record in crash rdd is 72006\n"
     ]
    }
   ],
   "source": [
    "print(\"Number of record in crash rdd is %d\" % (crash_rdd.count()))"
   ]
  },
  {
   "cell_type": "markdown",
   "metadata": {},
   "source": [
    "## Task 1.2"
   ]
  },
  {
   "cell_type": "markdown",
   "metadata": {},
   "source": [
    "### Task 1.2.1"
   ]
  },
  {
   "cell_type": "code",
   "execution_count": 8,
   "metadata": {},
   "outputs": [
    {
     "data": {
      "text/plain": [
       "5"
      ]
     },
     "execution_count": 8,
     "metadata": {},
     "output_type": "execute_result"
    }
   ],
   "source": [
    "#Get number of partitions \n",
    "unit_rdd.getNumPartitions()"
   ]
  },
  {
   "cell_type": "code",
   "execution_count": 9,
   "metadata": {},
   "outputs": [
    {
     "data": {
      "text/plain": [
       "5"
      ]
     },
     "execution_count": 9,
     "metadata": {},
     "output_type": "execute_result"
    }
   ],
   "source": [
    "#Get number of partitions \n",
    "crash_rdd.getNumPartitions()"
   ]
  },
  {
   "cell_type": "markdown",
   "metadata": {},
   "source": [
    "As we can see from the above code both RDD's have 5 partition. By default, Spark partitions the data using <strong>Random equal partitioning</strong> unless there are specific transformations that uses a different type of partitioning</strong> "
   ]
  },
  {
   "cell_type": "markdown",
   "metadata": {},
   "source": [
    "### Task 1.2.2"
   ]
  },
  {
   "cell_type": "code",
   "execution_count": 10,
   "metadata": {},
   "outputs": [],
   "source": [
    "from pyspark.rdd import RDD\n",
    "#Taken from tutorial\n",
    "#A Function to print the data items in each RDD\n",
    "#Same function is used to print out the data items of a DataFrame later\n",
    "def print_partitions(data):\n",
    "    if isinstance(data, RDD):\n",
    "        numPartitions = data.getNumPartitions()\n",
    "        partitions = data.glom().collect()\n",
    "    else:\n",
    "        numPartitions = data.rdd.getNumPartitions()\n",
    "        partitions = data.rdd.glom().collect()\n",
    "    \n",
    "    print(f\"####### NUMBER OF PARTITIONS: {numPartitions}\")\n",
    "    for index, partition in enumerate(partitions):\n",
    "        # show partition if it is not empty\n",
    "        if len(partition) > 0:\n",
    "            print(f\"Partition {index}: {len(partition)} records\")\n",
    "            # TODO: You can complete the code to show the values or some values for each partition\n",
    "            #print(partition[:2])"
   ]
  },
  {
   "cell_type": "code",
   "execution_count": 11,
   "metadata": {},
   "outputs": [],
   "source": [
    "#User defined function for paritioning our RDD's. It returns a typle, with the first value being the index,\n",
    "#second value being a list of remaining columns.\n",
    "def convert_to_key_value_pair(row,index):\n",
    "    #Split row\n",
    "    list_value = row.split(',')\n",
    "    #Strip away \"''\" to get a cleaner data format.\n",
    "    list_value = [item.strip('\"\"') for item in list_value] \n",
    "    #Pop indexed item from list\n",
    "    key = list_value.pop(index)\n",
    "    #Return a tuple with first value as the mentioned index and the rest as a list of values\n",
    "    return (key,list_value)"
   ]
  },
  {
   "cell_type": "code",
   "execution_count": 12,
   "metadata": {},
   "outputs": [],
   "source": [
    "#Hash Function to implement Hash Partitioning. Partitionis acccording to Lic State\n",
    "def hash_function(key):\n",
    "    if key == 'SA':\n",
    "        total = 0\n",
    "    elif key!= 'SA':\n",
    "        total = 1\n",
    "    return total"
   ]
  },
  {
   "cell_type": "code",
   "execution_count": 13,
   "metadata": {
    "scrolled": true
   },
   "outputs": [
    {
     "name": "stdout",
     "output_type": "stream",
     "text": [
      "####### NUMBER OF PARTITIONS: 2\n",
      "Partition 0: 109684 records\n",
      "Partition 1: 44170 records\n"
     ]
    }
   ],
   "source": [
    "#We map according to our key, in this case Lic State which has the index of 9. We then use our hash function to parition,\n",
    "#the data accordingly\n",
    "hash_partitioned_rdd = unit_rdd.map(lambda x: convert_to_key_value_pair(x,9)).partitionBy(2,hash_function)\n",
    "print_partitions(hash_partitioned_rdd)"
   ]
  },
  {
   "cell_type": "code",
   "execution_count": 14,
   "metadata": {
    "scrolled": false
   },
   "outputs": [],
   "source": [
    "#To get a better look at all the data values available in these partition.\n",
    "sa_data = unit_rdd.map(lambda x: convert_to_key_value_pair(x,9)).filter(lambda x: x[0] == 'SA')\n",
    "non_sa_data = unit_rdd.map(lambda x: convert_to_key_value_pair(x,9)).filter(lambda x: x[0] != 'SA')"
   ]
  },
  {
   "cell_type": "code",
   "execution_count": 15,
   "metadata": {},
   "outputs": [
    {
     "data": {
      "text/plain": [
       "[('SA', 109684)]"
      ]
     },
     "execution_count": 15,
     "metadata": {},
     "output_type": "execute_result"
    }
   ],
   "source": [
    "sa_data.groupByKey().map(lambda x: (x[0],len(x[1].data))).collect()"
   ]
  },
  {
   "cell_type": "code",
   "execution_count": 16,
   "metadata": {},
   "outputs": [
    {
     "data": {
      "text/plain": [
       "[('', 28729),\n",
       " ('UNKNOWN', 12717),\n",
       " ('ACT', 31),\n",
       " ('NT', 175),\n",
       " ('TAS', 40),\n",
       " ('FEDERAL', 4),\n",
       " ('O/S', 508),\n",
       " ('QLD', 316),\n",
       " ('WA', 266),\n",
       " ('VIC', 962),\n",
       " ('NSW', 422)]"
      ]
     },
     "execution_count": 16,
     "metadata": {},
     "output_type": "execute_result"
    }
   ],
   "source": [
    "non_sa_data.groupByKey().map(lambda x: (x[0],len(x[1].data))).collect()"
   ]
  },
  {
   "cell_type": "markdown",
   "metadata": {},
   "source": [
    "We can see from the above count that the data there is much more data for \"Lic State\" == \"SA\" than the alternatives. This heavily skews any observation we draw from this dataset towards SA, as that is the lic state which is most represented within the dataset. Furthermore we have a lot of \"UNKNOWN\" values."
   ]
  },
  {
   "cell_type": "markdown",
   "metadata": {},
   "source": [
    "## Task 1.3"
   ]
  },
  {
   "cell_type": "markdown",
   "metadata": {},
   "source": [
    "### Task 1.3.1"
   ]
  },
  {
   "cell_type": "code",
   "execution_count": 17,
   "metadata": {},
   "outputs": [
    {
     "name": "stdout",
     "output_type": "stream",
     "text": [
      "Average age of Male driver is 40.975960\n"
     ]
    }
   ],
   "source": [
    "#Get only the male data with valid numbers\n",
    "#index for age is 7\n",
    "male_data = unit_rdd.map(lambda x:convert_to_key_value_pair(x,7)).filter(lambda x: (x[0] == 'Male')&(x[1][7] != 'XXX'))\n",
    "#collect only the ages in a list\n",
    "male_ages = male_data.map(lambda x: x[1][7]).collect()\n",
    "#iterate over and get the list of values\n",
    "total_male_age = 0\n",
    "for val in male_ages:\n",
    "    x = int(val)\n",
    "    total_male_age += x\n",
    "print(\"Average age of Male driver is %f\" % (total_male_age/len(male_ages)))"
   ]
  },
  {
   "cell_type": "code",
   "execution_count": 18,
   "metadata": {},
   "outputs": [
    {
     "name": "stdout",
     "output_type": "stream",
     "text": [
      "Average age of Female driver is 40.387293\n"
     ]
    }
   ],
   "source": [
    "#Get only the female data with valid numbers\n",
    "#index for age is 7\n",
    "female_data = unit_rdd.map(lambda x:convert_to_key_value_pair(x,7)).filter(lambda x: (x[0] == 'Female') & (x[1][7]!='XXX'))\n",
    "fem_ages = female_data.map(lambda x: x[1][7]).collect()\n",
    "#iterate over and get the list of values\n",
    "#Note we are using eval to get rid of the ''.\n",
    "total_female_age = 0\n",
    "for val in fem_ages:\n",
    "    x = int(val)\n",
    "    total_female_age += x\n",
    "print(\"Average age of Female driver is %f\" % (total_female_age/len(fem_ages)))"
   ]
  },
  {
   "cell_type": "markdown",
   "metadata": {},
   "source": [
    "### Task 1.3.2"
   ]
  },
  {
   "cell_type": "markdown",
   "metadata": {},
   "source": [
    "We can do the task using RDD function max() and min(). Since our previous rdds are note suitable for this transformation, we will split our initital rdd and the only take our desired column i.e col index 3,4 and 5. After filtering we can pass the key on basis of which we want the max and min."
   ]
  },
  {
   "cell_type": "code",
   "execution_count": 19,
   "metadata": {},
   "outputs": [
    {
     "data": {
      "text/plain": [
       "('SA', 'Station Wagon', '2019')"
      ]
     },
     "execution_count": 19,
     "metadata": {},
     "output_type": "execute_result"
    }
   ],
   "source": [
    "#Steps\n",
    "#1. split the text acc to  ,\n",
    "#2.Strip '\"\"' from column 3,4,5 and create a tuple\n",
    "#3. filter according to 5th column and filter out values with XXXX and ''.\n",
    "#4. Get the max after giving the 5th column as key\n",
    "unit_rdd.map(lambda x: x.split(',')).map(lambda x:[item.strip('\"\"') for item in x]).map(lambda x:(x[3],x[4],x[5]))\\\n",
    ".filter(lambda x:x[2]!='XXXX' and x[2]!='').max(key = lambda x:x[2])"
   ]
  },
  {
   "cell_type": "code",
   "execution_count": 20,
   "metadata": {},
   "outputs": [
    {
     "data": {
      "text/plain": [
       "('VIC', 'Motor Cycle', '1900')"
      ]
     },
     "execution_count": 20,
     "metadata": {},
     "output_type": "execute_result"
    }
   ],
   "source": [
    "#Steps\n",
    "#1. split the text acc to  ,\n",
    "#2.Strip '\"\"' from column 3,4,5 and create a tuple\n",
    "#3. filter according to 5th column and filter out values with XXXX and ''.\n",
    "#4. Get the min after giving the 5th column as key\n",
    "unit_rdd.map(lambda x: x.split(',')).map(lambda x:[item.strip('\"\"') for item in x]).map(lambda x:(x[3],x[4],x[5]))\\\n",
    ".filter(lambda x:x[2]!='XXXX' and x[2]!='').min(key = lambda x:x[2])"
   ]
  },
  {
   "cell_type": "markdown",
   "metadata": {},
   "source": [
    "# TASK 2"
   ]
  },
  {
   "cell_type": "markdown",
   "metadata": {},
   "source": [
    "## Task 2.1"
   ]
  },
  {
   "cell_type": "code",
   "execution_count": 21,
   "metadata": {},
   "outputs": [
    {
     "name": "stdout",
     "output_type": "stream",
     "text": [
      "root\n",
      " |-- REPORT_ID: string (nullable = true)\n",
      " |-- Unit No: string (nullable = true)\n",
      " |-- No Of Cas: string (nullable = true)\n",
      " |-- Veh Reg State: string (nullable = true)\n",
      " |-- Unit Type: string (nullable = true)\n",
      " |-- Veh Year: string (nullable = true)\n",
      " |-- Direction Of Travel: string (nullable = true)\n",
      " |-- Sex: string (nullable = true)\n",
      " |-- Age: string (nullable = true)\n",
      " |-- Lic State: string (nullable = true)\n",
      " |-- Licence Class: string (nullable = true)\n",
      " |-- Licence Type: string (nullable = true)\n",
      " |-- Towing: string (nullable = true)\n",
      " |-- Unit Movement: string (nullable = true)\n",
      " |-- Number Occupants: string (nullable = true)\n",
      " |-- Postcode: string (nullable = true)\n",
      " |-- Rollover: string (nullable = true)\n",
      " |-- Fire: string (nullable = true)\n",
      "\n"
     ]
    }
   ],
   "source": [
    "#Read data and print schema\n",
    "df_unit = spark.read.csv(\"Data/*Units.csv\",header=True,sep=\",\")\n",
    "df_unit.createOrReplaceTempView(\"Unit_Data\")\n",
    "df_unit.printSchema()"
   ]
  },
  {
   "cell_type": "code",
   "execution_count": 22,
   "metadata": {
    "scrolled": true
   },
   "outputs": [
    {
     "name": "stdout",
     "output_type": "stream",
     "text": [
      "root\n",
      " |-- REPORT_ID: string (nullable = true)\n",
      " |-- Stats Area: string (nullable = true)\n",
      " |-- Suburb: string (nullable = true)\n",
      " |-- Postcode: string (nullable = true)\n",
      " |-- LGA Name: string (nullable = true)\n",
      " |-- Total Units: string (nullable = true)\n",
      " |-- Total Cas: string (nullable = true)\n",
      " |-- Total Fats: string (nullable = true)\n",
      " |-- Total SI: string (nullable = true)\n",
      " |-- Total MI: string (nullable = true)\n",
      " |-- Year: string (nullable = true)\n",
      " |-- Month: string (nullable = true)\n",
      " |-- Day: string (nullable = true)\n",
      " |-- Time: string (nullable = true)\n",
      " |-- Area Speed: string (nullable = true)\n",
      " |-- Position Type: string (nullable = true)\n",
      " |-- Horizontal Align: string (nullable = true)\n",
      " |-- Vertical Align: string (nullable = true)\n",
      " |-- Other Feat: string (nullable = true)\n",
      " |-- Road Surface: string (nullable = true)\n",
      " |-- Moisture Cond: string (nullable = true)\n",
      " |-- Weather Cond: string (nullable = true)\n",
      " |-- DayNight: string (nullable = true)\n",
      " |-- Crash Type: string (nullable = true)\n",
      " |-- Unit Resp: string (nullable = true)\n",
      " |-- Entity Code: string (nullable = true)\n",
      " |-- CSEF Severity: string (nullable = true)\n",
      " |-- Traffic Ctrls: string (nullable = true)\n",
      " |-- DUI Involved: string (nullable = true)\n",
      " |-- Drugs Involved: string (nullable = true)\n",
      " |-- ACCLOC_X: string (nullable = true)\n",
      " |-- ACCLOC_Y: string (nullable = true)\n",
      " |-- UNIQUE_LOC: string (nullable = true)\n",
      "\n"
     ]
    }
   ],
   "source": [
    "df_crash = spark.read.csv(\"Data/*Crash.csv\",header=True,sep=\",\")\n",
    "df_crash.createOrReplaceTempView(\"Crash_Data\")\n",
    "df_crash.printSchema()"
   ]
  },
  {
   "cell_type": "markdown",
   "metadata": {},
   "source": [
    "## Task 2.2"
   ]
  },
  {
   "cell_type": "code",
   "execution_count": 23,
   "metadata": {
    "scrolled": false
   },
   "outputs": [],
   "source": [
    "#Join according to REPORT_ID using inner join\n",
    "df_joined = df_crash.join(df_unit,df_unit.REPORT_ID == df_crash.REPORT_ID,how='inner')"
   ]
  },
  {
   "cell_type": "markdown",
   "metadata": {},
   "source": [
    "### Task 2.2.1"
   ]
  },
  {
   "cell_type": "code",
   "execution_count": 24,
   "metadata": {
    "scrolled": false
   },
   "outputs": [
    {
     "name": "stdout",
     "output_type": "stream",
     "text": [
      "+--------------------+----------+--------+--------+----------------+-----------+---------+----------+--------+--------+----+--------+--------+--------+----------+-------------+----------------+--------------+--------------------+------------+-------------+------------+--------+--------------+---------+------------+-------------+---------------+------------+--------------+----------+----------+--------------+\n",
      "|           REPORT_ID|Stats Area|  Suburb|Postcode|        LGA Name|Total Units|Total Cas|Total Fats|Total SI|Total MI|Year|   Month|     Day|    Time|Area Speed|Position Type|Horizontal Align|Vertical Align|          Other Feat|Road Surface|Moisture Cond|Weather Cond|DayNight|    Crash Type|Unit Resp| Entity Code|CSEF Severity|  Traffic Ctrls|DUI Involved|Drugs Involved|  ACCLOC_X|  ACCLOC_Y|    UNIQUE_LOC|\n",
      "+--------------------+----------+--------+--------+----------------+-----------+---------+----------+--------+--------+----+--------+--------+--------+----------+-------------+----------------+--------------+--------------------+------------+-------------+------------+--------+--------------+---------+------------+-------------+---------------+------------+--------------+----------+----------+--------------+\n",
      "| 2018-601-17/01/2020|    1 City|ADELAIDE|    5000|CITY OF ADELAIDE|          8|        4|         0|       2|       2|2018| January|  Sunday|09:12 pm|       050|  Not Divided|   Straight road|         Level|      Not Applicable|      Sealed|          Dry| Not Raining|   Night|Hit Pedestrian|       01|Driver Rider|        3: SI|     No Control|        null|          null|1329806.36|1670224.76|13298061670225|\n",
      "|2017-1613-15/08/2019|    1 City|ADELAIDE|    5000|CITY OF ADELAIDE|          2|        4|         0|       0|       4|2017|February|Saturday|04:00 pm|       050|   Cross Road|   Straight road|         Level|      Not Applicable|      Sealed|          Dry| Not Raining|Daylight|    Right Turn|       01|Driver Rider|        2: MI|Traffic Signals|        null|          null|1327951.24|1669556.92|13279511669557|\n",
      "|2017-12182-15/08/...|    1 City|ADELAIDE|    5000|CITY OF ADELAIDE|          6|        5|         0|       1|       4|2017|December|Saturday|04:08 pm|       050|   Cross Road|   Straight road|         Level|      Not Applicable|      Sealed|          Wet| Not Raining|Daylight|Hit Pedestrian|       01|Driver Rider|        3: SI|Traffic Signals|        null|          null| 1329016.2|1670995.07|13290161670995|\n",
      "|2019-10404-8/07/2020|    1 City|ADELAIDE|    5000|CITY OF ADELAIDE|          4|        6|         0|       0|       6|2019| October|  Monday|08:20 am|       060| Divided Road|   Straight road|         Level|Driveway or Entrance|      Sealed|          Dry| Not Raining|Daylight|    Right Turn|       01|Driver Rider|        2: MI|     No Control|        null|          null|1327088.72|1670880.07|13270891670880|\n",
      "+--------------------+----------+--------+--------+----------------+-----------+---------+----------+--------+--------+----+--------+--------+--------+----------+-------------+----------------+--------------+--------------------+------------+-------------+------------+--------+--------------+---------+------------+-------------+---------------+------------+--------------+----------+----------+--------------+\n",
      "\n",
      "CPU times: user 3 µs, sys: 1 µs, total: 4 µs\n",
      "Wall time: 8.58 µs\n"
     ]
    }
   ],
   "source": [
    "#According filters to the question\n",
    "df_crash.filter((df_crash['Suburb']==\"ADELAIDE\") & (df_crash['Total Cas']>3)).show()\n",
    "%time"
   ]
  },
  {
   "cell_type": "markdown",
   "metadata": {},
   "source": [
    "### Task 2.2.2"
   ]
  },
  {
   "cell_type": "code",
   "execution_count": 25,
   "metadata": {},
   "outputs": [
    {
     "name": "stdout",
     "output_type": "stream",
     "text": [
      "+--------------------+--------------+---------------+--------+--------------------+-----------+---------+----------+--------+--------+----+--------+---------+--------+----------+-------------+--------------------+--------------+--------------+------------+-------------+------------+--------+-----------+---------+------------+-------------+---------------+------------+--------------+----------+----------+--------------+\n",
      "|           REPORT_ID|    Stats Area|         Suburb|Postcode|            LGA Name|Total Units|Total Cas|Total Fats|Total SI|Total MI|Year|   Month|      Day|    Time|Area Speed|Position Type|    Horizontal Align|Vertical Align|    Other Feat|Road Surface|Moisture Cond|Weather Cond|DayNight| Crash Type|Unit Resp| Entity Code|CSEF Severity|  Traffic Ctrls|DUI Involved|Drugs Involved|  ACCLOC_X|  ACCLOC_Y|    UNIQUE_LOC|\n",
      "+--------------------+--------------+---------------+--------+--------------------+-----------+---------+----------+--------+--------+----+--------+---------+--------+----------+-------------+--------------------+--------------+--------------+------------+-------------+------------+--------+-----------+---------+------------+-------------+---------------+------------+--------------+----------+----------+--------------+\n",
      "|2016-3035-15/08/2019|2 Metropolitan|        HACKHAM|    5163| CITY OF ONKAPARINGA|          3|        9|         3|       5|       1|2016| January| Saturday|11:50 am|       080|   T-Junction|       Straight road|         Level|Not Applicable|      Sealed|          Dry| Not Raining|Daylight| Right Turn|       01|Driver Rider|     4: Fatal|     No Control|        null|          null|1320361.49|1645195.63|13203611645196|\n",
      "|2016-6630-15/08/2019|2 Metropolitan|  KANGAROO FLAT|    5118|LIGHT REGIONAL CO...|          3|        9|         0|       2|       7|2016|   April|Wednesday|09:00 pm|       100|  Not Divided|CURVED, VIEW OBSC...|         Level|Not Applicable|      Sealed|          Dry| Not Raining|   Night|    Head On|       01|Driver Rider|        3: SI|     No Control|        null|          null|1339316.32|1710314.92|13393161710315|\n",
      "|2019-11734-8/07/2020|2 Metropolitan|          STURT|    5047|CC MARION.       ...|          2|        9|         0|       1|       8|2019|November|   Sunday|07:25 pm|       060|   T-Junction|       Straight road|         Level|Not Applicable|      Sealed|          Dry| Not Raining|Daylight| Right Turn|       02|Driver Rider|        3: SI|Traffic Signals|        null|          null|1324428.84|1659884.95|13244291659885|\n",
      "|2016-7073-15/08/2019|     3 Country|       MERRITON|    5523|PT.PIRIE CITY & D...|          2|        8|         4|       3|       1|2016|   April|   Sunday|12:35 pm|       110|  Not Divided|       Straight road|         Level|Not Applicable|      Sealed|          Dry| Not Raining|Daylight|    Head On|       01|Driver Rider|     4: Fatal|     No Control|        null|          null|1293759.89|1840109.96|12937601840110|\n",
      "|2016-14407-15/08/...|     3 Country|      STOCKWELL|    5355|THE BAROSSA COUNCIL.|          2|        8|         1|       6|       1|2016| October|   Sunday|03:46 pm|       100|  Not Divided|       Straight road| Crest of Hill|Not Applicable|    Unsealed|          Dry| Not Raining|Daylight|    Head On|       01|Driver Rider|     4: Fatal|     No Control|        null|          null|1373964.45|1723462.57|13739641723463|\n",
      "|2015-2823-21/08/2019|     3 Country|         HAWKER|    5434|THE FLINDERS RANG...|          1|        8|         0|       0|       8|2015|   March|   Monday|06:00 pm|       110|  Not Divided|       Straight road|         Level|Not Applicable|      Sealed|          Dry| Not Raining|Daylight|  Roll Over|       01|Driver Rider|        2: MI|     No Control|        null|          null|1315077.61|2022309.34|13150782022309|\n",
      "| 2018-222-17/01/2020|     3 Country|   MOUNT SCHANK|    5291|DISTRICT COUNCIL ...|          2|        7|         0|       4|       3|2018| January|  Tuesday|05:30 pm|       110|   Cross Road|   CURVED, VIEW OPEN|         Level|Not Applicable|      Sealed|          Dry| Not Raining|Daylight|Right Angle|       02|Driver Rider|        3: SI|  Give Way Sign|        null|          null|1504113.89|1329441.75|15041141329442|\n",
      "|2015-12591-21/08/...|     3 Country|        MALLALA|    5502|DC MALLALA.      ...|          2|        7|         0|       2|       5|2015| October|   Sunday|02:30 pm|       100|   Cross Road|       Straight road|         Level|Not Applicable|    Unsealed|          Dry| Not Raining|Daylight|Right Angle|       01|Driver Rider|        3: SI|  Give Way Sign|        null|          null|1325122.01|1724860.95|13251221724861|\n",
      "|2015-6965-21/08/2019|     3 Country|       BEAUFORT|    5550|YORKE PENINSULA C...|          3|        7|         3|       4|       0|2015|    June|   Monday|11:13 am|       100|   T-Junction|       Straight road|         Level|Not Applicable|      Sealed|          Dry| Not Raining|Daylight|    Head On|       09|       Other|     4: Fatal|     No Control|        null|          null|1287930.19|1761652.36|12879301761652|\n",
      "|2015-13713-21/08/...|2 Metropolitan|ELIZABETH GROVE|    5112|   CITY OF PLAYFORD.|          2|        7|         0|       0|       7|2015|November|   Friday|03:42 pm|       080|   T-Junction|       Straight road|         Level|Not Applicable|      Sealed|          Dry| Not Raining|Daylight|   Rear End|       01|Driver Rider|        2: MI|     No Control|        null|          null|1336118.68|1691385.65|13361191691386|\n",
      "+--------------------+--------------+---------------+--------+--------------------+-----------+---------+----------+--------+--------+----+--------+---------+--------+----------+-------------+--------------------+--------------+--------------+------------+-------------+------------+--------+-----------+---------+------------+-------------+---------------+------------+--------------+----------+----------+--------------+\n",
      "only showing top 10 rows\n",
      "\n"
     ]
    }
   ],
   "source": [
    "#Order by Total Cas column and sort it.\n",
    "df_crash.orderBy(df_crash['Total Cas'].desc()).show(10)"
   ]
  },
  {
   "cell_type": "markdown",
   "metadata": {},
   "source": [
    "### Task 2.2.3"
   ]
  },
  {
   "cell_type": "code",
   "execution_count": 26,
   "metadata": {
    "scrolled": true
   },
   "outputs": [
    {
     "name": "stdout",
     "output_type": "stream",
     "text": [
      "+--------------------+----------------+\n",
      "|          Crash Type|Total Fatalities|\n",
      "+--------------------+----------------+\n",
      "|           Roll Over|            71.0|\n",
      "|  Hit Object on Road|             6.0|\n",
      "|      Hit Pedestrian|           160.0|\n",
      "|    Hit Fixed Object|           338.0|\n",
      "|               Other|             2.0|\n",
      "|          Side Swipe|            47.0|\n",
      "|             Head On|           193.0|\n",
      "|  Hit Parked Vehicle|            25.0|\n",
      "|          Right Turn|            39.0|\n",
      "|            Rear End|            39.0|\n",
      "|          Hit Animal|             8.0|\n",
      "|Left Road - Out o...|             1.0|\n",
      "|         Right Angle|            96.0|\n",
      "+--------------------+----------------+\n",
      "\n"
     ]
    }
   ],
   "source": [
    "#Group by according to Crash Type column and the sum all the values in Total Cas column\n",
    "df_crash.groupby('Crash Type').agg(F.sum('Total Fats').alias('Total Fatalities')).show()"
   ]
  },
  {
   "cell_type": "markdown",
   "metadata": {},
   "source": [
    "### Task 2.2.4"
   ]
  },
  {
   "cell_type": "code",
   "execution_count": 27,
   "metadata": {},
   "outputs": [
    {
     "name": "stdout",
     "output_type": "stream",
     "text": [
      "+---------------+----------------+\n",
      "|         Suburb|Total Casualties|\n",
      "+---------------+----------------+\n",
      "|       ADELAIDE|            19.0|\n",
      "|      SALISBURY|            18.0|\n",
      "|      DRY CREEK|            18.0|\n",
      "| SALISBURY EAST|            16.0|\n",
      "|       PROSPECT|            14.0|\n",
      "| NORTH ADELAIDE|            13.0|\n",
      "|        ENFIELD|            12.0|\n",
      "|   ANDREWS FARM|            12.0|\n",
      "|     INGLE FARM|            11.0|\n",
      "|SALISBURY SOUTH|            11.0|\n",
      "|   BEDFORD PARK|            11.0|\n",
      "|SALISBURY DOWNS|            11.0|\n",
      "|SALISBURY PLAIN|            10.0|\n",
      "|     MUNNO PARA|            10.0|\n",
      "|  MORPHETT VALE|            10.0|\n",
      "|   MOUNT BARKER|            10.0|\n",
      "|         BURTON|            10.0|\n",
      "|   MAWSON LAKES|            10.0|\n",
      "| ELIZABETH PARK|            10.0|\n",
      "| ELIZABETH EAST|             9.0|\n",
      "+---------------+----------------+\n",
      "only showing top 20 rows\n",
      "\n"
     ]
    }
   ],
   "source": [
    "#Steps:\n",
    "#1. Filter Unlicensed type\n",
    "#2. Group by suburb\n",
    "#3. Aggreagate Total Cas\n",
    "#4. Descending order sort\n",
    "df_joined.filter(df_joined['Licence Type']=='Unlicenced')\\\n",
    ".groupby('Suburb').agg(F.sum(\"Total Cas\").alias('Total Casualties'))\\\n",
    ".sort('Total Casualties',ascending = False).show()"
   ]
  },
  {
   "cell_type": "markdown",
   "metadata": {},
   "source": [
    "## Task 2.3"
   ]
  },
  {
   "cell_type": "markdown",
   "metadata": {},
   "source": [
    "### Task 2.3.1"
   ]
  },
  {
   "cell_type": "code",
   "execution_count": 28,
   "metadata": {},
   "outputs": [
    {
     "name": "stdout",
     "output_type": "stream",
     "text": [
      "+-------------+-----+\n",
      "|CSEF Severity|Total|\n",
      "+-------------+-----+\n",
      "|     4: Fatal|  954|\n",
      "|        2: MI|46965|\n",
      "|       1: PDO|99851|\n",
      "|        3: SI| 6084|\n",
      "+-------------+-----+\n",
      "\n"
     ]
    }
   ],
   "source": [
    "agg_attr = 'CSEF Severity'\n",
    "df_count = df_joined.groupby(agg_attr).agg(F.count(agg_attr).alias('Total'))\n",
    "df_count.show()"
   ]
  },
  {
   "cell_type": "markdown",
   "metadata": {},
   "source": [
    "1: PDO is the most common CSEF Severity level. This is to be expected as most crashes logged will be minor crashes that won't have any casualties."
   ]
  },
  {
   "cell_type": "markdown",
   "metadata": {},
   "source": [
    "#### Task 2.3.2 a)"
   ]
  },
  {
   "cell_type": "code",
   "execution_count": 29,
   "metadata": {},
   "outputs": [
    {
     "name": "stdout",
     "output_type": "stream",
     "text": [
      "+-------------+-----+------------------+\n",
      "|CSEF Severity|Total|        Percentage|\n",
      "+-------------+-----+------------------+\n",
      "|     4: Fatal|  166| 6.278366111951589|\n",
      "|        2: MI| 1593| 60.24962178517398|\n",
      "|       1: PDO|  385|14.561270801815432|\n",
      "|        3: SI|  500|   18.910741301059|\n",
      "+-------------+-----+------------------+\n",
      "\n"
     ]
    }
   ],
   "source": [
    "#Get count of craashes with drugs involved\n",
    "count_of_drugs = df_joined.filter(df_joined['Drugs Involved']=='Y').count()\n",
    "#Create the view\n",
    "df_joined.filter(df_joined['Drugs Involved']=='Y')\\\n",
    ".groupBy('CSEF Severity')\\\n",
    ".agg(F.count(agg_attr).alias('Total'))\\\n",
    ".withColumn('Percentage',((F.col('Total')/count_of_drugs)*100))\\\n",
    ".show()"
   ]
  },
  {
   "cell_type": "code",
   "execution_count": 30,
   "metadata": {},
   "outputs": [
    {
     "data": {
      "text/plain": [
       "2644"
      ]
     },
     "execution_count": 30,
     "metadata": {},
     "output_type": "execute_result"
    }
   ],
   "source": [
    "count_of_drugs"
   ]
  },
  {
   "cell_type": "markdown",
   "metadata": {},
   "source": [
    "#### Task 2.3.2 b)"
   ]
  },
  {
   "cell_type": "code",
   "execution_count": 31,
   "metadata": {},
   "outputs": [
    {
     "name": "stdout",
     "output_type": "stream",
     "text": [
      "+-------------+-----+------------------+\n",
      "|CSEF Severity|Total|        Percentage|\n",
      "+-------------+-----+------------------+\n",
      "|     4: Fatal|  152|3.1640299750208163|\n",
      "|        2: MI| 1578|32.847626977518736|\n",
      "|       1: PDO| 2554|53.164029975020824|\n",
      "|        3: SI|  520|10.824313072439635|\n",
      "+-------------+-----+------------------+\n",
      "\n"
     ]
    }
   ],
   "source": [
    "#Steps:\n",
    "#1. Filter DUI Involved\n",
    "#2.Group by CSEF Severity\n",
    "#3. Aggreagate CSEF Severity\n",
    "#4. Add a column with our calculation\n",
    "count_of_dui = df_joined.filter(df_joined['DUI Involved']=='Y').count()\n",
    "df_joined.filter(df_joined['DUI Involved']=='Y')\\\n",
    ".groupBy('CSEF Severity')\\\n",
    ".agg(F.count(agg_attr).alias('Total'))\\\n",
    ".withColumn('Percentage',((F.col('Total')/count_of_dui)*100))\\\n",
    ".show()"
   ]
  },
  {
   "cell_type": "markdown",
   "metadata": {},
   "source": [
    "#### Task 2.3.2 c)"
   ]
  },
  {
   "cell_type": "code",
   "execution_count": 32,
   "metadata": {},
   "outputs": [
    {
     "name": "stdout",
     "output_type": "stream",
     "text": [
      "+-------------+-----+------------------+\n",
      "|CSEF Severity|Total|        Percentage|\n",
      "+-------------+-----+------------------+\n",
      "|     4: Fatal|   52|14.246575342465754|\n",
      "|        2: MI|  190|52.054794520547944|\n",
      "|       1: PDO|   51|13.972602739726028|\n",
      "|        3: SI|   72|19.726027397260275|\n",
      "+-------------+-----+------------------+\n",
      "\n"
     ]
    }
   ],
   "source": [
    "#Steps:\n",
    "#1. Filter Drugs & DUI Involved\n",
    "#2.Group by CSEF Severity\n",
    "#3. Aggreagate \n",
    "#4. Add a column with our calculation\n",
    "count_of_crashes_dui_drugs = df_joined.filter((df_joined['Drugs Involved']=='Y') & (df_joined['DUI Involved']=='Y')).count()\n",
    "df_joined.filter((df_joined['Drugs Involved']=='Y') & (df_joined['DUI Involved']=='Y'))\\\n",
    ".groupBy('CSEF Severity')\\\n",
    ".agg(F.count(agg_attr).alias('Total'))\\\n",
    ".withColumn('Percentage',((F.col('Total')/count_of_crashes_dui_drugs)*100))\\\n",
    ".show()"
   ]
  },
  {
   "cell_type": "markdown",
   "metadata": {},
   "source": [
    "#### Task 2.3.2 d)"
   ]
  },
  {
   "cell_type": "code",
   "execution_count": 33,
   "metadata": {},
   "outputs": [
    {
     "name": "stdout",
     "output_type": "stream",
     "text": [
      "+-------------+-----+------------------+\n",
      "|CSEF Severity|Total|        Percentage|\n",
      "+-------------+-----+------------------+\n",
      "|     4: Fatal|  688|0.4687574520852212|\n",
      "|        2: MI|43984| 29.96777292516914|\n",
      "|       1: PDO|96963| 66.06414073624899|\n",
      "|        3: SI| 5136|3.4993288864966514|\n",
      "+-------------+-----+------------------+\n",
      "\n"
     ]
    }
   ],
   "source": [
    "#Steps:\n",
    "#1. Filter Non DUI and Drug involved crashes\n",
    "#2.Group by CSEF Severity\n",
    "#3. Aggreagate \n",
    "#4. Add a column with our calculation\n",
    "count_of_non_dui_drugs = df_joined.filter((df_joined['Drugs Involved'].isNull()) & (df_joined['DUI Involved'].isNull())).count()\n",
    "df_joined.filter((df_joined['Drugs Involved'].isNull()) & (df_joined['DUI Involved'].isNull()))\\\n",
    ".groupBy('CSEF Severity')\\\n",
    ".agg(F.count(agg_attr).alias('Total'))\\\n",
    ".withColumn('Percentage',((F.col('Total')/count_of_non_dui_drugs)*100))\\\n",
    ".show()"
   ]
  },
  {
   "cell_type": "markdown",
   "metadata": {},
   "source": [
    "Following are the analysis drawn form the above queries:\n",
    "1. When no drugs or alcohol is involved in the crashes, the crash Severity has a higher probability of being a Minor injury or just property damage.\n",
    "2. Crashes involving alochol far outstrips the other category, but this is to be expected due to far easier availability of alcohol than drugs. \n",
    "3. There are higher cases of a <b>\"dangerous crash\"(SI+Fatal)</b> when both drugs&alcohol(33.96) are involved, followed by drugs(25.17) then alcohol(13.98). This is common sense driving under the influence of alcohol or drugs both will lead to fatal crashes. The compounding effects of the substance just add to the probability of a dangerous crash. \n",
    "2. While the number of cases of crashes which involve both alcohol and drugs are far fewer in absoloute numbers compared to either drugs or alcohol involved crashe."
   ]
  },
  {
   "cell_type": "markdown",
   "metadata": {},
   "source": [
    "## Task 2.4"
   ]
  },
  {
   "cell_type": "markdown",
   "metadata": {},
   "source": [
    "### Task 2.4.1"
   ]
  },
  {
   "cell_type": "code",
   "execution_count": 34,
   "metadata": {},
   "outputs": [],
   "source": [
    "#Create views of the dataframe to query using SQL.\n",
    "df_crash.createOrReplaceTempView(\"df_crash_sql\")\n",
    "df_unit.createOrReplaceTempView(\"df_unit_sql\")"
   ]
  },
  {
   "cell_type": "code",
   "execution_count": 50,
   "metadata": {
    "scrolled": true
   },
   "outputs": [
    {
     "name": "stdout",
     "output_type": "stream",
     "text": [
      "+--------------------+--------+-------+---------+-------+----+------------+\n",
      "|                Date|    Time|Unit No|No Of Cas|    Sex| Age|Licence Type|\n",
      "+--------------------+--------+-------+---------+-------+----+------------+\n",
      "|2016-November-Wed...|01:45 pm|     01|        0|   Male| 056|        Full|\n",
      "|2016-November-Wed...|01:45 pm|     02|        1|   Male| 072|        null|\n",
      "|2016-November-Tue...|03:40 pm|     01|        0|   Male| 056|        null|\n",
      "|2016-November-Tue...|03:40 pm|     02|        1| Female| 027|        null|\n",
      "|2016-November-Tue...|05:00 pm|     01|        0| Female| 032|        Full|\n",
      "|2016-November-Tue...|05:00 pm|     02|        0|Unknown| XXX|     Unknown|\n",
      "|2016-November-Tue...|05:40 pm|     01|        0|   Male| 022|     Unknown|\n",
      "|2016-November-Tue...|05:40 pm|     02|        0|   Male| 020|     Unknown|\n",
      "|2016-November-Monday|11:26 pm|     01|        0|Unknown| XXX|     Unknown|\n",
      "|2016-November-Monday|11:26 pm|     02|        0|   Male| 042|        Full|\n",
      "|2016-November-Monday|11:26 pm|     03|        0|   null|null|        null|\n",
      "|2016-November-Monday|11:30 pm|     01|        0|   Male| 026|     Unknown|\n",
      "|2016-November-Monday|11:30 pm|     02|        0|   Male| 038|        Full|\n",
      "|2016-November-Monday|11:30 pm|     03|        0|   Male| 036|        Full|\n",
      "|2016-November-Tue...|05:05 pm|     01|        0|   Male| 025|     Unknown|\n",
      "|2016-November-Tue...|05:05 pm|     02|        0|Unknown| XXX|     Unknown|\n",
      "|2016-November-Wed...|03:30 pm|     01|        1| Female| 065|        Full|\n",
      "|2016-November-Wed...|03:30 pm|     02|        0|Unknown| XXX|     Unknown|\n",
      "|2016-November-Wed...|02:20 pm|     01|        0|   Male| 063|        Full|\n",
      "|2016-November-Wed...|02:20 pm|     02|        0|   null|null|        null|\n",
      "+--------------------+--------+-------+---------+-------+----+------------+\n",
      "only showing top 20 rows\n",
      "\n",
      "CPU times: user 8.57 ms, sys: 1.22 ms, total: 9.79 ms\n",
      "Wall time: 610 ms\n"
     ]
    }
   ],
   "source": [
    "# Dataframes\n",
    "%time df_joined.filter(df_joined['Suburb'] == 'ADELAIDE').select(F.concat('Year',F.lit(\"-\"), 'Month' ,F.lit(\"-\"), 'Day').alias(\"Date\"), 'Time', 'Unit No', 'No Of Cas', 'Sex', 'Age', 'Licence Type').show()"
   ]
  },
  {
   "cell_type": "code",
   "execution_count": 51,
   "metadata": {},
   "outputs": [
    {
     "name": "stdout",
     "output_type": "stream",
     "text": [
      "+--------------------+--------+-------+---------+-------+----+------------+\n",
      "|                Date|    Time|Unit No|No Of Cas|    Sex| Age|Licence Type|\n",
      "+--------------------+--------+-------+---------+-------+----+------------+\n",
      "|2016-November-Wed...|01:45 pm|     01|        0|   Male| 056|        Full|\n",
      "|2016-November-Wed...|01:45 pm|     02|        1|   Male| 072|        null|\n",
      "|2016-November-Tue...|03:40 pm|     01|        0|   Male| 056|        null|\n",
      "|2016-November-Tue...|03:40 pm|     02|        1| Female| 027|        null|\n",
      "|2016-November-Tue...|05:00 pm|     01|        0| Female| 032|        Full|\n",
      "|2016-November-Tue...|05:00 pm|     02|        0|Unknown| XXX|     Unknown|\n",
      "|2016-November-Tue...|05:40 pm|     01|        0|   Male| 022|     Unknown|\n",
      "|2016-November-Tue...|05:40 pm|     02|        0|   Male| 020|     Unknown|\n",
      "|2016-November-Monday|11:26 pm|     01|        0|Unknown| XXX|     Unknown|\n",
      "|2016-November-Monday|11:26 pm|     02|        0|   Male| 042|        Full|\n",
      "|2016-November-Monday|11:26 pm|     03|        0|   null|null|        null|\n",
      "|2016-November-Monday|11:30 pm|     01|        0|   Male| 026|     Unknown|\n",
      "|2016-November-Monday|11:30 pm|     02|        0|   Male| 038|        Full|\n",
      "|2016-November-Monday|11:30 pm|     03|        0|   Male| 036|        Full|\n",
      "|2016-November-Tue...|05:05 pm|     01|        0|   Male| 025|     Unknown|\n",
      "|2016-November-Tue...|05:05 pm|     02|        0|Unknown| XXX|     Unknown|\n",
      "|2016-November-Wed...|03:30 pm|     01|        1| Female| 065|        Full|\n",
      "|2016-November-Wed...|03:30 pm|     02|        0|Unknown| XXX|     Unknown|\n",
      "|2016-November-Wed...|02:20 pm|     01|        0|   Male| 063|        Full|\n",
      "|2016-November-Wed...|02:20 pm|     02|        0|   null|null|        null|\n",
      "+--------------------+--------+-------+---------+-------+----+------------+\n",
      "only showing top 20 rows\n",
      "\n",
      "CPU times: user 588 µs, sys: 160 µs, total: 748 µs\n",
      "Wall time: 470 ms\n"
     ]
    }
   ],
   "source": [
    "#SQL\n",
    "temp = spark.sql('''\n",
    "    SELECT CONCAT(Year, '-', Month, '-', Day) as Date, Time, `Unit No`, `No Of Cas`, Sex, Age, `Licence Type`\n",
    "    FROM df_crash_sql c join df_unit_sql u \n",
    "    ON c.REPORT_ID = u.REPORT_ID\n",
    "    WHERE Suburb == 'ADELAIDE' \n",
    "''')\n",
    "%time temp.show()"
   ]
  },
  {
   "cell_type": "code",
   "execution_count": 37,
   "metadata": {},
   "outputs": [
    {
     "name": "stdout",
     "output_type": "stream",
     "text": [
      "CPU times: user 32.4 ms, sys: 10.9 ms, total: 43.3 ms\n",
      "Wall time: 6 s\n"
     ]
    },
    {
     "data": {
      "text/plain": [
       "[('2016-November-Wednesday', '01', '04:26 pm', '0', 'Male', '017', 'Unknown'),\n",
       " ('2016-November-Wednesday', '02', '04:26 pm', '0', 'Male', '025', 'Unknown'),\n",
       " ('2016-December-Friday', '01', '11:30 am', '0', 'Male', '080', 'Full'),\n",
       " ('2016-December-Friday', '02', '11:30 am', '0', 'Male', '048', 'Full'),\n",
       " ('2016-December-Saturday', '01', '07:40 am', '0', 'Male', '032', 'Full'),\n",
       " ('2016-December-Saturday',\n",
       "  '02',\n",
       "  '07:40 am',\n",
       "  '0',\n",
       "  'Unknown',\n",
       "  'XXX',\n",
       "  'Unknown'),\n",
       " ('2016-December-Friday', '01', '05:30 pm', '0', 'Female', '058', 'Full'),\n",
       " ('2016-December-Friday', '02', '05:30 pm', '0', 'Male', '041', 'Full'),\n",
       " ('2016-December-Wednesday', '01', '04:20 pm', '0', 'Female', '045', 'Full'),\n",
       " ('2016-December-Wednesday', '02', '04:20 pm', '0', 'Male', '027', 'Full'),\n",
       " ('2016-December-Wednesday', '03', '04:20 pm', '0', 'Male', '041', 'Full'),\n",
       " ('2016-December-Thursday', '01', '01:15 pm', '0', 'Unknown', 'XXX', ''),\n",
       " ('2016-December-Thursday', '02', '01:15 pm', '0', 'Female', '021', 'Full'),\n",
       " ('2016-December-Friday', '01', '11:25 am', '0', 'Male', '023', 'Full'),\n",
       " ('2016-December-Friday', '02', '11:25 am', '0', 'Unknown', 'XXX', 'Unknown'),\n",
       " ('2016-December-Monday', '01', '02:50 pm', '0', 'Female', '048', 'Full'),\n",
       " ('2016-December-Monday', '02', '02:50 pm', '0', 'Unknown', 'XXX', 'Unknown'),\n",
       " ('2016-February-Sunday', '01', '04:50 pm', '0', 'Female', '033', 'Full'),\n",
       " ('2016-February-Sunday', '02', '04:50 pm', '0', 'Male', 'XXX', 'Unknown'),\n",
       " ('2016-June-Monday', '01', '06:50 pm', '0', 'Female', '022', 'Full')]"
      ]
     },
     "execution_count": 37,
     "metadata": {},
     "output_type": "execute_result"
    }
   ],
   "source": [
    "#RDD\n",
    "#x[0] = key = REPORT_ID\n",
    "#x[1][0] = unit.csv data for the tuple\n",
    "#x[1][1] = Crash.csv data for the tuple\n",
    "#x[1][1][12] = Time column\n",
    "#x[1][0][1] = No of Cas Column\n",
    "#x[1][1][9] = Year Column\n",
    "#x[1][1][10] = Month Column\n",
    "#x[1][1][11] = Day Column\n",
    "#x[1][0][7] = Age Column\n",
    "#x[1][0][6] = Sex Column\n",
    "#x[1][0][10] = License Type Column\n",
    "#x[1][0][0] = Unit No Column\n",
    "\n",
    "unit_rdd_id = unit_rdd.map(lambda x: convert_to_key_value_pair(x,0))\n",
    "crash_rdd_id = crash_rdd.map(lambda x: convert_to_key_value_pair(x,0))\n",
    "\n",
    "%time unit_rdd_id.join(crash_rdd_id).\\\n",
    "filter(lambda x:x[1][1][1]=='ADELAIDE')\\\n",
    ".map(lambda x:((x[1][1][9]+\"-\"+x[1][1][10]+\"-\"+x[1][1][11]),x[1][0][0],x[1][1][12],x[1][0][1],x[1][0][6],x[1][0][7],x[1][0][10]))\\\n",
    ".take(20)\n"
   ]
  },
  {
   "cell_type": "markdown",
   "metadata": {},
   "source": [
    "### Task 2.4.2"
   ]
  },
  {
   "cell_type": "code",
   "execution_count": 38,
   "metadata": {},
   "outputs": [
    {
     "name": "stdout",
     "output_type": "stream",
     "text": [
      "+---------------+-----------------+\n",
      "|         Suburb|Total Casualities|\n",
      "+---------------+-----------------+\n",
      "|       ADELAIDE|             19.0|\n",
      "|      SALISBURY|             18.0|\n",
      "|      DRY CREEK|             18.0|\n",
      "| SALISBURY EAST|             16.0|\n",
      "|       PROSPECT|             14.0|\n",
      "| NORTH ADELAIDE|             13.0|\n",
      "|        ENFIELD|             12.0|\n",
      "|   ANDREWS FARM|             12.0|\n",
      "|     INGLE FARM|             11.0|\n",
      "|SALISBURY DOWNS|             11.0|\n",
      "|SALISBURY SOUTH|             11.0|\n",
      "|   BEDFORD PARK|             11.0|\n",
      "|         BURTON|             10.0|\n",
      "|     MUNNO PARA|             10.0|\n",
      "|   MOUNT BARKER|             10.0|\n",
      "|SALISBURY PLAIN|             10.0|\n",
      "| ELIZABETH PARK|             10.0|\n",
      "|  MORPHETT VALE|             10.0|\n",
      "|   MAWSON LAKES|             10.0|\n",
      "|ELIZABETH GROVE|              9.0|\n",
      "+---------------+-----------------+\n",
      "only showing top 20 rows\n",
      "\n",
      "CPU times: user 7.53 ms, sys: 9.18 ms, total: 16.7 ms\n",
      "Wall time: 3.83 s\n"
     ]
    }
   ],
   "source": [
    "#Steps:\n",
    "#1. Join DF\n",
    "#2. Group BY suburb.\n",
    "#3. sort by Total Cas.\n",
    "%time df_joined.filter(df_joined['Licence Type'] == 'Unlicenced')\\\n",
    ".groupBy(\"Suburb\")\\\n",
    ".agg(F.sum(\"Total Cas\").alias(\"Total Casualities\"))\\\n",
    ".sort(\"Total Casualities\",ascending = False)\\\n",
    ".show()"
   ]
  },
  {
   "cell_type": "code",
   "execution_count": 39,
   "metadata": {},
   "outputs": [
    {
     "name": "stdout",
     "output_type": "stream",
     "text": [
      "+---------------+-----------------+\n",
      "|         Suburb|Total Casualities|\n",
      "+---------------+-----------------+\n",
      "|       ADELAIDE|             19.0|\n",
      "|      SALISBURY|             18.0|\n",
      "|      DRY CREEK|             18.0|\n",
      "| SALISBURY EAST|             16.0|\n",
      "|       PROSPECT|             14.0|\n",
      "| NORTH ADELAIDE|             13.0|\n",
      "|        ENFIELD|             12.0|\n",
      "|   ANDREWS FARM|             12.0|\n",
      "|     INGLE FARM|             11.0|\n",
      "|SALISBURY SOUTH|             11.0|\n",
      "|   BEDFORD PARK|             11.0|\n",
      "|SALISBURY DOWNS|             11.0|\n",
      "|         BURTON|             10.0|\n",
      "|   MOUNT BARKER|             10.0|\n",
      "|  MORPHETT VALE|             10.0|\n",
      "|SALISBURY PLAIN|             10.0|\n",
      "|     MUNNO PARA|             10.0|\n",
      "|   MAWSON LAKES|             10.0|\n",
      "| ELIZABETH PARK|             10.0|\n",
      "| ELIZABETH EAST|              9.0|\n",
      "+---------------+-----------------+\n",
      "only showing top 20 rows\n",
      "\n",
      "CPU times: user 1.17 ms, sys: 356 µs, total: 1.52 ms\n",
      "Wall time: 3.68 s\n"
     ]
    }
   ],
   "source": [
    "#SQL\n",
    "temp = spark.sql('''\n",
    "    SELECT Suburb, sum(`Total Cas`) as `Total Casualities`\n",
    "    FROM df_crash_sql c join df_unit_sql u \n",
    "    ON c.REPORT_ID = u.REPORT_ID\n",
    "    WHERE `Licence Type` = \"Unlicenced\"\n",
    "    Group By Suburb\n",
    "    ORDER By `Total Casualities` desc\n",
    "''')\n",
    "%time temp.show()"
   ]
  },
  {
   "cell_type": "code",
   "execution_count": 40,
   "metadata": {
    "scrolled": false
   },
   "outputs": [
    {
     "name": "stdout",
     "output_type": "stream",
     "text": [
      "CPU times: user 64.2 ms, sys: 48.3 ms, total: 112 ms\n",
      "Wall time: 8.15 s\n"
     ]
    },
    {
     "data": {
      "text/plain": [
       "[('ADELAIDE', 19),\n",
       " ('KENT TOWN', 19),\n",
       " ('DRY CREEK', 18),\n",
       " ('SALISBURY', 18),\n",
       " ('PAYNEHAM', 17),\n",
       " ('NORWOOD', 17),\n",
       " ('SALISBURY EAST', 16),\n",
       " ('MARDEN', 16),\n",
       " ('STEPNEY', 15),\n",
       " ('MAYLANDS', 14),\n",
       " ('PROSPECT', 14),\n",
       " ('ROYSTON PARK', 13),\n",
       " ('NORTH ADELAIDE', 13),\n",
       " ('ANDREWS FARM', 12),\n",
       " ('ENFIELD', 12),\n",
       " ('INGLE FARM', 11),\n",
       " ('SALISBURY SOUTH', 11),\n",
       " ('BEDFORD PARK', 11),\n",
       " ('SALISBURY DOWNS', 11),\n",
       " ('MAWSON LAKES', 10)]"
      ]
     },
     "execution_count": 40,
     "metadata": {},
     "output_type": "execute_result"
    }
   ],
   "source": [
    "#RDD\n",
    "#Steps:\n",
    "#1. Create key,value pair using report_id.abs\n",
    "#2. filter for Unlicesnsed\n",
    "#3. Select only the required attributes i.r. surburb and total Cas\n",
    "#4. ReduceByKey groups by suburb and then counts the second value in our case 'Total Cas'.\n",
    "#5. SortBy count \n",
    "unit_rdd_id = unit_rdd.map(lambda x: convert_to_key_value_pair(x,0))\n",
    "crash_rdd_id = crash_rdd.map(lambda x: convert_to_key_value_pair(x,0))\n",
    "%time unit_rdd_id.join(crash_rdd_id).filter(lambda x:x[1][0][10]=='Unlicenced')\\\n",
    ".map(lambda x:(x[1][1][1],int(x[1][1][5])))\\\n",
    ".reduceByKey(add)\\\n",
    ".sortBy(lambda x:x[1],ascending = False)\\\n",
    ".take(20)"
   ]
  },
  {
   "cell_type": "markdown",
   "metadata": {},
   "source": [
    "The below given times are just average, the execution time might vary depending on other factors, but the variance wont be that much for our task.\n",
    "\n",
    "First Query:\n",
    "1. Dataframe - Wall time: 610 ms\n",
    "2. SQL - Wall time: 694 ms\n",
    "3. RDD - Wall time: 6 s\n",
    "\n",
    "Second Query:\n",
    "1. Dataframe - Wall time: 3.68 s\n",
    "2. SQL - Wall time: 3.83 s\n",
    "3. RDD - Wall time: 8.15 s\n",
    "\n",
    "<p>We can see a clear increase in execution time throughout all the categgory from first query to second query.This si to be expected since groupBy() is a costly operation.</p>\n",
    "\n",
    "<p>The similar execution timing of dataframe and sql queries are to be expected since at its base both methods use exactly the same execution engine and internal data structures.It is then a matter of personal preference for the developer.While Dataframes may be more easier to construct/debug, SQL queries have better readability. Therefore i'll be focusing on the differences between Dataframe/SQL vs RDD oeprations.</p>\n",
    "\n",
    "<p>As we can see from the above measurements, dataframe and SQL operation outperform RDD in both the queries in terms of execution speed. The slow execution of RDD can be improved by writing a better query than the one used in this assignment. Since RDD query has to manually crawl the raw data, while dataframe and SQL operation have proper structured data to work on, RDD operation ends up with high execution times in comparison.</p>\n",
    "\n",
    "<b>However this kind of direct time comparison doesn't really do justice to the advantages of RDD operation vs Dataframe/SQL.</b>\n",
    "\n",
    "* While in terms of structured data, dataframe/SQL query will far outstrip RDD operation in terms of speed. When unstructured data is introduced into the mix, RDD operation starts showing their strengths. With unstructured raw data, querying using Dataframe/SQL query might be very costly if not outright impossible. Thus leaving us with RDD operations as our only choice.\n",
    "\n",
    "* Furthermore RDD operations provide us with more fined tuned control of our data in terms of functional programming for domain-specific expressions.\n",
    "\n",
    "* When the relation between data is not relevant, at that time RDD operation might be better suited than Dataframe/SQL operation which will impose an artificial schema in the absence of one.\n",
    "\n",
    "<p>It must be noted though that the efficiency of RDD operation is a double edged sword, while in the hands of a capable programmer it may give a greater degree of freedom and execution speed over dataframe/SQL. The other option gives a sense of stability and standardization as there are only so many ways one can write the basic CRUD opeartions in Dataframe/SQL.</p>"
   ]
  },
  {
   "cell_type": "markdown",
   "metadata": {},
   "source": [
    "# Task B: Part 2"
   ]
  },
  {
   "cell_type": "markdown",
   "metadata": {},
   "source": [
    "Getting all the prevous queries from the above part to create a view."
   ]
  },
  {
   "cell_type": "code",
   "execution_count": 41,
   "metadata": {},
   "outputs": [],
   "source": [
    "#Code from previous section being reused to get the variables.\n",
    "#Get count of craashes with drugs involved\n",
    "count_of_drugs = df_joined.filter(df_joined['Drugs Involved']=='Y').count()\n",
    "#Create the view\n",
    "df_drugs_inv=df_joined.filter(df_joined['Drugs Involved']=='Y')\\\n",
    ".groupBy('CSEF Severity')\\\n",
    ".agg(F.count(agg_attr).alias('Total'))\\\n",
    ".withColumn('Percentage',((F.col('Total')/count_of_drugs)*100))\n",
    "\n",
    "#Steps:\n",
    "#1. Filter DUI Involved\n",
    "#2.Group by CSEF Severity\n",
    "#3. Aggreagate CSEF Severity\n",
    "#4. Add a column with our calculation\n",
    "count_of_dui = df_joined.filter(df_joined['DUI Involved']=='Y').count()\n",
    "df_dui_inv=df_joined.filter(df_joined['DUI Involved']=='Y')\\\n",
    ".groupBy('CSEF Severity')\\\n",
    ".agg(F.count(agg_attr).alias('Total'))\\\n",
    ".withColumn('Percentage',((F.col('Total')/count_of_dui)*100))\n",
    "\n",
    "#Steps:\n",
    "#1. Filter Drugs Involved\n",
    "#2.Group by CSEF Severity\n",
    "#3. Aggreagate CSEF Severity\n",
    "#4. Add a column with our calculation\n",
    "count_of_crashes_dui_drugs = df_joined.filter((df_joined['Drugs Involved']=='Y') & (df_joined['DUI Involved']=='Y')).count()\n",
    "df_drug_dui_inv = df_joined.filter((df_joined['Drugs Involved']=='Y') & (df_joined['DUI Involved']=='Y'))\\\n",
    ".groupBy('CSEF Severity')\\\n",
    ".agg(F.count(agg_attr).alias('Total'))\\\n",
    ".withColumn('Percentage',((F.col('Total')/count_of_crashes_dui_drugs)*100))\n",
    "\n",
    "#Steps:\n",
    "#1. Filter Non DUI and Drug involved crashes\n",
    "#2.Group by CSEF Severity\n",
    "#3. Aggreagate \n",
    "#4. Add a column with our calculation\n",
    "count_of_non_dui_drugs = df_joined.filter((df_joined['Drugs Involved'].isNull()) & (df_joined['DUI Involved'].isNull())).count()\n",
    "df_non_drug_dui_inv=df_joined.filter((df_joined['Drugs Involved'].isNull()) & (df_joined['DUI Involved'].isNull()))\\\n",
    ".groupBy('CSEF Severity')\\\n",
    ".agg(F.count(agg_attr).alias('Total'))\\\n",
    ".withColumn('Percentage',((F.col('Total')/count_of_non_dui_drugs)*100))"
   ]
  },
  {
   "cell_type": "code",
   "execution_count": 42,
   "metadata": {},
   "outputs": [],
   "source": [
    "#Creating all the views for SQL query\n",
    "df_drugs_inv.createOrReplaceTempView('sql_drug_inv')\n",
    "df_dui_inv.createOrReplaceTempView('sql_dui_inv')\n",
    "df_drug_dui_inv.createOrReplaceTempView('sql_drug_dui_inv')\n",
    "df_non_drug_dui_inv.createOrReplaceTempView('sql_non_drug_dui_inv')"
   ]
  },
  {
   "cell_type": "code",
   "execution_count": 43,
   "metadata": {},
   "outputs": [],
   "source": [
    "#joined table\n",
    "sql_ans = spark.sql('''\n",
    "    SELECT d_i.`CSEF Severity`,d_i.Total as OnDrugs,du_i.Total as OnAlc,d_du_inv.Total as OnBoth,non_d_du_inv.Total as OnNone\n",
    "    FROM sql_drug_inv d_i JOIN sql_dui_inv du_i JOIN sql_drug_dui_inv d_du_inv JOIN sql_non_drug_dui_inv non_d_du_inv\n",
    "    ON (d_i.`CSEF Severity`=du_i.`CSEF Severity`) and (d_i.`CSEF Severity`=d_du_inv.`CSEF Severity`) and (d_i.`CSEF Severity`=non_d_du_inv.`CSEF Severity`)\n",
    "''')"
   ]
  },
  {
   "cell_type": "code",
   "execution_count": 44,
   "metadata": {},
   "outputs": [
    {
     "name": "stdout",
     "output_type": "stream",
     "text": [
      "+-------------+-------+-----+------+------+\n",
      "|CSEF Severity|OnDrugs|OnAlc|OnBoth|OnNone|\n",
      "+-------------+-------+-----+------+------+\n",
      "|     4: Fatal|    166|  152|    52|   688|\n",
      "|        2: MI|   1593| 1578|   190| 43984|\n",
      "|       1: PDO|    385| 2554|    51| 96963|\n",
      "|        3: SI|    500|  520|    72|  5136|\n",
      "+-------------+-------+-----+------+------+\n",
      "\n"
     ]
    }
   ],
   "source": [
    "sql_ans.show()"
   ]
  },
  {
   "cell_type": "code",
   "execution_count": 45,
   "metadata": {},
   "outputs": [],
   "source": [
    "bar_graph_data = sql_ans.collect()"
   ]
  },
  {
   "cell_type": "code",
   "execution_count": 46,
   "metadata": {},
   "outputs": [
    {
     "data": {
      "image/png": "[encoded data removed]",
      "text/plain": [
       "<Figure size 432x288 with 1 Axes>"
      ]
     },
     "metadata": {
      "needs_background": "light"
     },
     "output_type": "display_data"
    }
   ],
   "source": [
    "#Bar graph\n",
    "labels = [bar_graph_data[0][0],bar_graph_data[1][0],bar_graph_data[2][0],bar_graph_data[3][0]]\n",
    "barWidth = 0.25\n",
    "# Set position of bar on X axis\n",
    "r1 = np.arange(len(labels))\n",
    "r2 = [x + barWidth for x in r1]\n",
    "r3 = [x + barWidth for x in r2]\n",
    "r4 = [x + barWidth for x in r3]\n",
    "\n",
    "fig, ax = plt.subplots()\n",
    "onDrug_rects1 = ax.bar(r1, [bar_graph_data[0][1],bar_graph_data[1][1],bar_graph_data[2][1],bar_graph_data[3][1]], barWidth, label='onDrug')\n",
    "onAlc_rects2 = ax.bar(r2, [bar_graph_data[0][2],bar_graph_data[1][2],bar_graph_data[2][2],bar_graph_data[3][2]], barWidth, label='onAlc')\n",
    "onBoth_rects1 = ax.bar(r3, [bar_graph_data[0][3],bar_graph_data[1][3],bar_graph_data[2][3],bar_graph_data[3][3]], barWidth, label='onBoth')\n",
    "onNone_rects1 = ax.bar(r4, [bar_graph_data[0][4],bar_graph_data[1][4],bar_graph_data[2][4],bar_graph_data[3][4]], barWidth, label='OnNone')\n",
    "\n",
    "# Add some text for labels, title and custom x-axis tick labels, etc.\n",
    "ax.set_ylabel('Count')\n",
    "ax.set_title('CSEF Serverity')\n",
    "ax.set_xticks(range(0,len(labels)))\n",
    "ax.set_xticklabels(labels)\n",
    "ax.legend()\n",
    "plt.show()"
   ]
  },
  {
   "cell_type": "markdown",
   "metadata": {},
   "source": [
    "To many values for onNone is causing our bar graph to be skewed. However this is to be expected a large majority of people who get into crashes will not be on drugs or alcohol. Redrawing the graph after removing the column"
   ]
  },
  {
   "cell_type": "code",
   "execution_count": 47,
   "metadata": {},
   "outputs": [
    {
     "data": {
      "image/png": "[encoded data removed]",
      "text/plain": [
       "<Figure size 432x288 with 1 Axes>"
      ]
     },
     "metadata": {
      "needs_background": "light"
     },
     "output_type": "display_data"
    }
   ],
   "source": [
    "#Bar graph\n",
    "labels = [bar_graph_data[0][0],bar_graph_data[1][0],bar_graph_data[2][0],bar_graph_data[3][0]]\n",
    "barWidth = 0.25\n",
    "# Set position of bar on X axis\n",
    "r1 = np.arange(len(labels))\n",
    "r2 = [x + barWidth for x in r1]\n",
    "r3 = [x + barWidth for x in r2]\n",
    "\n",
    "fig, ax = plt.subplots()\n",
    "onDrug_rects1 = ax.bar(r1, [bar_graph_data[0][1],bar_graph_data[1][1],bar_graph_data[2][1],bar_graph_data[3][1]], barWidth, label='onDrug')\n",
    "onAlc_rects2 = ax.bar(r2, [bar_graph_data[0][2],bar_graph_data[1][2],bar_graph_data[2][2],bar_graph_data[3][2]], barWidth, label='onAlc')\n",
    "onBoth_rects1 = ax.bar(r3, [bar_graph_data[0][3],bar_graph_data[1][3],bar_graph_data[2][3],bar_graph_data[3][3]], barWidth, label='onBoth')\n",
    "\n",
    "# Add some text for labels, title and custom x-axis tick labels, etc.\n",
    "ax.set_ylabel('Count')\n",
    "ax.set_title('CSEF Serverity')\n",
    "ax.set_xticks(range(0,len(labels)))\n",
    "ax.set_xticklabels(labels)\n",
    "ax.legend()\n",
    "plt.show()"
   ]
  },
  {
   "cell_type": "markdown",
   "metadata": {},
   "source": [
    "Following are a few analysis from the above activity:\n",
    "1. In case of CSEF Severity PDO we can see that alcohol is much more heavily involved rather than drugs.\n",
    "2. We can also note that the involvement of alcohol and drugs together make up a very small percentages of crashes.\n",
    "3. If we see a closer look at CSEF Severity Fatal, we can see that drugs, alcohol and the involvement of both in crashes are eerily similar. This can indicate that when a fatal crash does occur, it does not matter what the substance is which the driver is under the influence of.\n",
    "4. As we can see, in all crashes across severity levels alcohol is more heavily involved rather than drugs. This can be contributed to the legal nature of alcohol availability."
   ]
  }
 ],
 "metadata": {
  "kernelspec": {
   "display_name": "Python 3",
   "language": "python",
   "name": "python3"
  },
  "language_info": {
   "codemirror_mode": {
    "name": "ipython",
    "version": 3
   },
   "file_extension": ".py",
   "mimetype": "text/x-python",
   "name": "python",
   "nbconvert_exporter": "python",
   "pygments_lexer": "ipython3",
   "version": "3.8.2"
  }
 },
 "nbformat": 4,
 "nbformat_minor": 4
}